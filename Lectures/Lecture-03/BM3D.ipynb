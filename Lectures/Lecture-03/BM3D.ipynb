{
 "cells": [
  {
   "cell_type": "markdown",
   "id": "fd3e728f",
   "metadata": {
    "slideshow": {
     "slide_type": "slide"
    }
   },
   "source": [
    "## The BM3D filter"
   ]
  },
  {
   "cell_type": "markdown",
   "id": "d6e1625a",
   "metadata": {},
   "source": [
    "- The BM3D has evolved from the ideas in the non-local means filter. \n",
    "- Applies filters on the matching blocks instead of the average.\n",
    "- It is currently one of the most efficient denoising filters.\n",
    "\n",
    "__References__\n",
    "- K. Dabov et al. 2007 [Image Denoising by Sparse 3-D Transform-Domain Collaborative Filtering](https://doi.org/10.1109/TIP.2007.901238), IEEE Trans on Image Processing, 2007\n",
    "- M. LeBrun [An Analysis and Implementation of the BM3D Image Denoising Method](https://doi.org/10.5201/ipol.2012.l-bm3d), Image Processing Online, 2012\n",
    "- M. Elad et al. [Image Denoising: The Deep Learning Revolution and Beyond — A Survey Paper](https://doi.org/10.1137/23M1545859), SIAM J. on Imaging Sciences, 2023\n",
    "\n"
   ]
  },
  {
   "cell_type": "markdown",
   "id": "fd26dc09",
   "metadata": {
    "ExecuteTime": {
     "end_time": "2024-03-04T13:31:33.749335Z",
     "start_time": "2024-03-04T13:31:33.557991Z"
    },
    "slideshow": {
     "slide_type": "slide"
    }
   },
   "source": [
    "### Filter algorithm outline\n",
    "\n",
    "![](figures/bm3d.png)\n",
    "\n",
    "\n",
    "Figure from [D. Wang et al., 2020](https://doi.org/10.1109/ACCESS.2020.3006773)"
   ]
  },
  {
   "cell_type": "markdown",
   "id": "8310ab90",
   "metadata": {
    "slideshow": {
     "slide_type": "slide"
    }
   },
   "source": [
    "### What does block matching mean?\n",
    "\n",
    "![](figures/BM3D_BlockMatching2.png)\n",
    "\n",
    "- Similar blocks found by a least squared difference between thresholded spectra of the images.\n",
    "- The threshold is given by the image noise variance. \n",
    "\n",
    "Figure from [K. Dabov et al. 2007](https://doi.org/10.1109/TIP.2007.901238)"
   ]
  },
  {
   "cell_type": "markdown",
   "id": "e18b11f3",
   "metadata": {
    "slideshow": {
     "slide_type": "slide"
    }
   },
   "source": [
    "### BM3D in real images\n",
    "\n",
    "![](figures/ComparingBM3D.png)\n",
    "Figure from [Q. Zhan et al. 2024](https://www.ndt.net/search/docs.php3?id=29248)"
   ]
  },
  {
   "cell_type": "markdown",
   "id": "2c414501",
   "metadata": {
    "ExecuteTime": {
     "end_time": "2024-03-04T20:14:05.235472Z",
     "start_time": "2024-03-04T20:14:05.223302Z"
    },
    "slideshow": {
     "slide_type": "slide"
    }
   },
   "source": [
    "### What about 3D images?\n",
    "\n",
    "The BM3D filter was originally defined for 2D images.\n",
    "\n",
    "The upscaling to 3D images is quite straight forward\n",
    "- All processing steps add one dimension\n",
    "- The filtering colaborative filtering step is now done on a 4D image\n",
    "\n",
    "The filter is now called __BM4D__ instead.\n",
    "\n",
    "#### Issues with BM4D\n",
    "The additional dimension add some complexity\n",
    "- Implementation: It may not be so easy to wrap your head around the 4th dimension\n",
    "- Computational \n",
    "    - Memory: 3D images requires much more memory. \n",
    "    - Processing time: The increased amount of data takes longer time to process. Implementations with GPUs exist."
   ]
  },
  {
   "cell_type": "markdown",
   "id": "f02881ed",
   "metadata": {
    "slideshow": {
     "slide_type": "slide"
    }
   },
   "source": [
    "## Can denoising go even further?\n",
    "\n",
    "- BM3D was long the king among denoisers\n",
    "- On global scale, it is hard to get better. \n",
    "- Looking into the details there is still potential to improve\n",
    "\n",
    "### Deep learning for denoising"
   ]
  },
  {
   "cell_type": "markdown",
   "id": "d1f308fc",
   "metadata": {
    "slideshow": {
     "slide_type": "notes"
    }
   },
   "source": [
    "\n",
    "```{figure} figures/DL-Denoising.png.pdf\n",
    "---\n",
    "scale: 75%\n",
    "---\n",
    "Figure from Elad et al., https://doi.org/10.48550/arXiv.2301.03362, 2023.\n",
    "```"
   ]
  },
  {
   "cell_type": "markdown",
   "id": "34d3b20b",
   "metadata": {
    "slideshow": {
     "slide_type": "-"
    }
   },
   "source": [
    "<img src='figures/DL-Denoising.png' style=\"height:600px\"/>\n",
    "<a href=\"https://doi.org/10.48550/arXiv.2301.03362\">Figure from Elad et al. 2023</a>"
   ]
  },
  {
   "cell_type": "code",
   "execution_count": null,
   "id": "1d8f3433",
   "metadata": {},
   "outputs": [],
   "source": []
  }
 ],
 "metadata": {
  "celltoolbar": "Slideshow",
  "kernelspec": {
   "display_name": "Python 3 (ipykernel)",
   "language": "python",
   "name": "python3"
  },
  "language_info": {
   "codemirror_mode": {
    "name": "ipython",
    "version": 3
   },
   "file_extension": ".py",
   "mimetype": "text/x-python",
   "name": "python",
   "nbconvert_exporter": "python",
   "pygments_lexer": "ipython3",
   "version": "3.11.0"
  },
  "varInspector": {
   "cols": {
    "lenName": 16,
    "lenType": 16,
    "lenVar": 40
   },
   "kernels_config": {
    "python": {
     "delete_cmd_postfix": "",
     "delete_cmd_prefix": "del ",
     "library": "var_list.py",
     "varRefreshCmd": "print(var_dic_list())"
    },
    "r": {
     "delete_cmd_postfix": ") ",
     "delete_cmd_prefix": "rm(",
     "library": "var_list.r",
     "varRefreshCmd": "cat(var_dic_list()) "
    }
   },
   "types_to_exclude": [
    "module",
    "function",
    "builtin_function_or_method",
    "instance",
    "_Feature"
   ],
   "window_display": false
  }
 },
 "nbformat": 4,
 "nbformat_minor": 5
}
