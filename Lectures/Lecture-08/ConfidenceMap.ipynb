{
 "cells": [
  {
   "cell_type": "code",
   "execution_count": null,
   "id": "ad984161",
   "metadata": {
    "ExecuteTime": {
     "end_time": "2023-02-16T12:51:14.804539Z",
     "start_time": "2023-02-16T12:51:12.034790Z"
    }
   },
   "outputs": [],
   "source": [
    "import numpy as np\n",
    "import matplotlib.pyplot as plt\n",
    "import scipy.special as spec\n",
    "from scipy.stats import norm\n",
    "colors = plt.rcParams['axes.prop_cycle'].by_key()['color']"
   ]
  },
  {
   "cell_type": "code",
   "execution_count": null,
   "id": "5e6a2a1c",
   "metadata": {
    "ExecuteTime": {
     "end_time": "2023-02-16T12:51:19.023700Z",
     "start_time": "2023-02-16T12:51:18.893385Z"
    }
   },
   "outputs": [],
   "source": [
    "x=np.linspace(-5,5,201)\n",
    "\n",
    "e=spec.erf(x)\n",
    "ec=spec.erfc(x)\n",
    "plt.plot(x,e)\n",
    "plt.plot(x,ec)"
   ]
  },
  {
   "cell_type": "markdown",
   "id": "b7778b3d",
   "metadata": {
    "ExecuteTime": {
     "end_time": "2023-02-09T08:11:12.464342Z",
     "start_time": "2023-02-09T08:11:12.456190Z"
    }
   },
   "source": [
    "# Gaussian CDF\n",
    "https://stats.stackexchange.com/questions/187828/how-are-the-error-function-and-standard-normal-distribution-function-related\n",
    "\n",
    "$$\\Phi(x,\\mu,\\sigma)=\\frac{1}{2}\\left(1+erf\\left(\\frac{x-\\mu}{\\sigma\\sqrt{2}}\\right)\\right)$$"
   ]
  },
  {
   "cell_type": "code",
   "execution_count": null,
   "id": "cd63068a",
   "metadata": {
    "ExecuteTime": {
     "end_time": "2023-02-16T12:51:21.069963Z",
     "start_time": "2023-02-16T12:51:21.055239Z"
    }
   },
   "outputs": [],
   "source": [
    "def cdf(x,m,s) :\n",
    "    return 0.5*(1+spec.erf((x-m)/(s*np.sqrt(2))))\n",
    "\n",
    "def cdfc(x,m,s) :\n",
    "    return 0.5*(spec.erfc((x-m)/(s*np.sqrt(2))))\n",
    "\n",
    "def gaussian(x,m,s) :\n",
    "    return 1/(np.sqrt(2*np.pi)*s)*np.exp(-(x-m)**2/(2*s**2))"
   ]
  },
  {
   "cell_type": "code",
   "execution_count": null,
   "id": "37db2b81",
   "metadata": {
    "ExecuteTime": {
     "end_time": "2023-02-16T12:51:22.397942Z",
     "start_time": "2023-02-16T12:51:22.307666Z"
    }
   },
   "outputs": [],
   "source": [
    "m0=0\n",
    "s0=1\n",
    "m1=2\n",
    "s1=2\n",
    "plt.plot(x,norm.pdf((x-m0)/(2*np.sqrt(s0))))\n",
    "plt.plot(x,cdf(x,m0,s0))\n",
    "plt.plot(x,cdf(x,m1,s1))"
   ]
  },
  {
   "cell_type": "markdown",
   "id": "5d0712bf",
   "metadata": {},
   "source": [
    "## Introduction to confidence maps"
   ]
  },
  {
   "cell_type": "code",
   "execution_count": null,
   "id": "1953f66b",
   "metadata": {
    "ExecuteTime": {
     "end_time": "2023-02-16T12:51:25.073090Z",
     "start_time": "2023-02-16T12:51:24.171276Z"
    }
   },
   "outputs": [],
   "source": [
    "s0=1;\n",
    "noise = np.random.normal(size=[200,200])\n",
    "fig,ax = plt.subplots(1,2,figsize=(12,5))\n",
    "ax[0].imshow(noise,cmap='gray')\n",
    "h,bins = np.histogram(noise.ravel(),bins=100)\n",
    "normh=h/h.sum()\n",
    "ax[1].fill(bins[:-1],normh,alpha=0.5,label='Noise histogram')\n",
    "pdf = gaussian(x,0,1)\n",
    "ax[1].plot(x,*pdf/pdf.sum(),color=colors[1], label='Gaussian pdf')\n",
    "ax[1].legend()"
   ]
  },
  {
   "cell_type": "code",
   "execution_count": null,
   "id": "acf984f8",
   "metadata": {
    "ExecuteTime": {
     "end_time": "2023-02-16T12:51:30.757942Z",
     "start_time": "2023-02-16T12:51:30.747245Z"
    }
   },
   "outputs": [],
   "source": [
    "noise.std()"
   ]
  },
  {
   "cell_type": "code",
   "execution_count": null,
   "id": "0db5a9d3",
   "metadata": {
    "ExecuteTime": {
     "end_time": "2023-02-16T12:51:31.977822Z",
     "start_time": "2023-02-16T12:51:31.966220Z"
    }
   },
   "outputs": [],
   "source": [
    "pdf.sum()"
   ]
  },
  {
   "cell_type": "code",
   "execution_count": null,
   "id": "28cdbcb0",
   "metadata": {
    "ExecuteTime": {
     "end_time": "2023-02-16T12:51:33.863668Z",
     "start_time": "2023-02-16T12:51:33.657845Z"
    }
   },
   "outputs": [],
   "source": [
    "x=np.linspace(-6,6,1000)\n",
    "h0 = np.exp(-(x-1)**2/2)\n",
    "h1 = np.exp(-(x+1)**2/2)\n",
    "\n",
    "gamma=0.5\n",
    "\n",
    "# Visualization\n",
    "gidx = np.abs(x - gamma).argmin()\n",
    "plt.fill(x,h0,label='True positive',alpha=0.3,ec=colors[0],lw=2)\n",
    "plt.fill(x,h1,label='True negative',alpha=0.3,ec=colors[1],lw=2)\n",
    "\n",
    "plt.vlines([x[gidx]],ymin=0,ymax=1,color='magenta',label='Threshold $\\gamma$={0}'.format(gamma))\n",
    "\n",
    "plt.fill_between(x[:gidx],0,h0[:gidx],color=colors[2],label='False negative',alpha=0.3,ec=colors[2],lw=2)\n",
    "plt.fill_between(x[gidx:],0,h1[gidx:],color=colors[3],label='False positive',alpha=0.3,ec=colors[3],lw=2)\n",
    "\n",
    "plt.legend();"
   ]
  },
  {
   "cell_type": "code",
   "execution_count": null,
   "id": "8115aa64",
   "metadata": {
    "ExecuteTime": {
     "end_time": "2023-02-16T12:51:34.755970Z",
     "start_time": "2023-02-16T12:51:34.743582Z"
    }
   },
   "outputs": [],
   "source": [
    "def conf_plot(m,s) :\n",
    "    if len(m) != len(s) :\n",
    "        raise ValueError(\"Arguments have different lengths!\")\n",
    "        \n",
    "    x_min = m.min()-3*s.max()\n",
    "    x_max = m.max()+3*s.max()\n",
    "    \n",
    "    x=np.linspace(x_min,x_max,1000)\n",
    "    \n",
    "    #xx,yy = np.meshgrid(x,np.arange(len(m)))\n",
    "    w = np.zeros([len(m),len(x)])\n",
    "    \n",
    "    for idx,(mm,ss) in enumerate(zip(m,s)) :\n",
    "        w[idx]=np.exp(-(x-mm)**2/(2*ss**2))\n",
    "    \n",
    "    return x,w\n",
    "        "
   ]
  },
  {
   "cell_type": "code",
   "execution_count": null,
   "id": "984c6151",
   "metadata": {
    "ExecuteTime": {
     "end_time": "2023-02-16T12:51:35.526389Z",
     "start_time": "2023-02-16T12:51:35.516966Z"
    }
   },
   "outputs": [],
   "source": [
    "x,w=conf_plot(m=np.array([-1,1,3]),s=np.array([0.5,1.5,0.5]))"
   ]
  },
  {
   "cell_type": "code",
   "execution_count": null,
   "id": "f84da753",
   "metadata": {
    "ExecuteTime": {
     "end_time": "2023-02-16T12:51:36.387342Z",
     "start_time": "2023-02-16T12:51:36.296053Z"
    }
   },
   "outputs": [],
   "source": [
    "plt.plot(x,w.transpose());"
   ]
  },
  {
   "cell_type": "code",
   "execution_count": null,
   "id": "3dc5e04c",
   "metadata": {
    "ExecuteTime": {
     "end_time": "2023-02-16T12:51:37.250913Z",
     "start_time": "2023-02-16T12:51:37.167198Z"
    }
   },
   "outputs": [],
   "source": [
    "plt.plot(w[0]/np.sum(w,axis=0))\n",
    "plt.plot(w[1]/np.sum(w,axis=0))\n",
    "plt.plot(w[2]/np.sum(w,axis=0))"
   ]
  },
  {
   "cell_type": "code",
   "execution_count": null,
   "id": "ea4adcc8",
   "metadata": {},
   "outputs": [],
   "source": []
  },
  {
   "cell_type": "code",
   "execution_count": null,
   "id": "846c7fcd",
   "metadata": {
    "ExecuteTime": {
     "end_time": "2023-02-16T12:51:39.067646Z",
     "start_time": "2023-02-16T12:51:39.058665Z"
    }
   },
   "outputs": [],
   "source": [
    "def multi_gaussian(x,m,s) :\n",
    "    return np.exp(-(x-m)**2/(2*s**2))\n",
    "    \n",
    "    "
   ]
  },
  {
   "cell_type": "code",
   "execution_count": null,
   "id": "6cb9aa80",
   "metadata": {
    "ExecuteTime": {
     "end_time": "2023-02-16T12:51:39.804300Z",
     "start_time": "2023-02-16T12:51:39.793186Z"
    }
   },
   "outputs": [],
   "source": [
    "multi_gaussian(-1,m=np.array([-1,1,3]),s=np.array([0.5,1.5,0.5]))"
   ]
  },
  {
   "cell_type": "code",
   "execution_count": null,
   "id": "23bd1137",
   "metadata": {
    "ExecuteTime": {
     "end_time": "2023-02-16T12:51:40.503139Z",
     "start_time": "2023-02-16T12:51:40.479075Z"
    }
   },
   "outputs": [],
   "source": []
  },
  {
   "cell_type": "code",
   "execution_count": null,
   "id": "8daa94a0",
   "metadata": {
    "ExecuteTime": {
     "end_time": "2023-02-16T12:53:18.567437Z",
     "start_time": "2023-02-16T12:53:18.486090Z"
    }
   },
   "outputs": [],
   "source": [
    "plt.plot(res)"
   ]
  },
  {
   "cell_type": "code",
   "execution_count": null,
   "id": "5fe96197",
   "metadata": {
    "ExecuteTime": {
     "end_time": "2023-02-16T13:40:08.558511Z",
     "start_time": "2023-02-16T13:40:08.548971Z"
    }
   },
   "outputs": [],
   "source": [
    "def conf_value(x,c,m,s) :\n",
    "    w = np.exp(-(x-m)**2/(2*s**2))\n",
    "    \n",
    "    return w[c]/w.sum()\n",
    "    \n",
    "\n",
    "def conf_map(data,segm,m,s) :\n",
    "    if len(m) != len(s) :\n",
    "        raise ValueError(\"Arguments have different lengths!\")\n",
    "    \n",
    "    classlabels = np.unique(segm)\n",
    "    if len(classlabels) != len(m) :\n",
    "        raise ValueError(\"Number of segmented classes doesn't match m array!\")\n",
    "    \n",
    "    res = np.array([conf_value(x,c,m=m,s=s) for x,c in zip(data.ravel(),segm.ravel())])\n",
    "    res = res.reshape(data.shape)\n",
    "\n",
    "    return res"
   ]
  },
  {
   "cell_type": "code",
   "execution_count": null,
   "id": "b962c500",
   "metadata": {
    "ExecuteTime": {
     "end_time": "2023-02-16T13:40:09.341059Z",
     "start_time": "2023-02-16T13:40:09.127887Z"
    }
   },
   "outputs": [],
   "source": [
    "ss = 0.5\n",
    "N = 10 \n",
    "m=np.array([-3,1,5])\n",
    "s=np.array([ss,ss,ss])\n",
    "\n",
    "res = np.array([multi_gaussian(x,m=m,s=s) for x in np.linspace(-5,5,1000)])\n",
    "\n",
    "img=np.repeat(np.repeat(np.array([[m[0],m[1]],[m[1],m[2]]]),N,axis=0),N,axis=1)\n",
    "seg=img\n",
    "for idx in range(len(m)):\n",
    "    seg[img==m[idx]]=idx\n",
    "\n",
    "nm = img+np.random.normal(loc=0,scale=ss,size=img.shape)\n",
    "\n",
    "cm = conf_map(nm,seg,m,s)\n",
    "\n",
    "fig,ax=plt.subplots(1,4,figsize=(15,3.5))\n",
    "ax[0].imshow(nm)\n",
    "ax[1].imshow(seg)\n",
    "ax[2].imshow(cm,clim=[0,1])\n",
    "ax[3].plot(res);\n"
   ]
  },
  {
   "cell_type": "code",
   "execution_count": null,
   "id": "19f677a4",
   "metadata": {
    "ExecuteTime": {
     "end_time": "2023-02-16T13:14:55.454108Z",
     "start_time": "2023-02-16T13:14:55.441485Z"
    }
   },
   "outputs": [],
   "source": [
    "conf_value(-1,2,m,s)"
   ]
  },
  {
   "cell_type": "code",
   "execution_count": null,
   "id": "e6743963",
   "metadata": {
    "ExecuteTime": {
     "end_time": "2023-02-16T13:23:52.084437Z",
     "start_time": "2023-02-16T13:23:52.068059Z"
    }
   },
   "outputs": [],
   "source": [
    "\n",
    "res = np.array([c for x,c in zip(nm.ravel(),seg.ravel())])\n",
    "\n",
    "res.reshape(seg.shape)"
   ]
  },
  {
   "cell_type": "code",
   "execution_count": null,
   "id": "6af52999",
   "metadata": {},
   "outputs": [],
   "source": []
  }
 ],
 "metadata": {
  "kernelspec": {
   "display_name": "Python 3 (ipykernel)",
   "language": "python",
   "name": "python3"
  },
  "language_info": {
   "codemirror_mode": {
    "name": "ipython",
    "version": 3
   },
   "file_extension": ".py",
   "mimetype": "text/x-python",
   "name": "python",
   "nbconvert_exporter": "python",
   "pygments_lexer": "ipython3",
   "version": "3.9.15"
  },
  "varInspector": {
   "cols": {
    "lenName": 16,
    "lenType": 16,
    "lenVar": 40
   },
   "kernels_config": {
    "python": {
     "delete_cmd_postfix": "",
     "delete_cmd_prefix": "del ",
     "library": "var_list.py",
     "varRefreshCmd": "print(var_dic_list())"
    },
    "r": {
     "delete_cmd_postfix": ") ",
     "delete_cmd_prefix": "rm(",
     "library": "var_list.r",
     "varRefreshCmd": "cat(var_dic_list()) "
    }
   },
   "types_to_exclude": [
    "module",
    "function",
    "builtin_function_or_method",
    "instance",
    "_Feature"
   ],
   "window_display": false
  }
 },
 "nbformat": 4,
 "nbformat_minor": 5
}
