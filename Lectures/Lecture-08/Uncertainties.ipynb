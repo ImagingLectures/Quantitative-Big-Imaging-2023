{
 "cells": [
  {
   "cell_type": "markdown",
   "id": "6f12b0bf",
   "metadata": {
    "slideshow": {
     "slide_type": "slide"
    }
   },
   "source": [
    "# Handling uncertainties in image processing"
   ]
  },
  {
   "cell_type": "code",
   "execution_count": null,
   "id": "2ac74df4",
   "metadata": {
    "ExecuteTime": {
     "end_time": "2023-04-15T07:27:59.134671Z",
     "start_time": "2023-04-15T07:27:58.622965Z"
    }
   },
   "outputs": [],
   "source": [
    "import numpy as np\n",
    "import matplotlib.pyplot as plt\n",
    "import matplotlib.patches as patches\n",
    "import tifffile as tiff\n",
    "from lecture8_support import *"
   ]
  },
  {
   "cell_type": "markdown",
   "id": "2c92de85",
   "metadata": {
    "slideshow": {
     "slide_type": "slide"
    }
   },
   "source": [
    "## Literature\n",
    "### Books\n",
    "Drosg, 2009, [\"Dealing with uncertainties\"](https://doi.org/0.1007/978-3-642-01384-3), Springer Verlag  \n",
    "M. Grabe, 2014,[\"Measurement Uncertainties in Science and Technology\"](https://doi.org/10.1007/978-3-319-04888-8), Springer Verlag  \n",
    "Ch. Gillmann, 2018,[\"Image processing under uncertainty\"](https://kluedo.ub.rptu.de/frontdoor/deliver/index/docId/5470/file/Dissertation_Christina_Gillmann.pdf), PhD Thesis, Uni Kaiserslautern\n",
    "\n",
    "### Web resources\n",
    "[Measurement errors - European Commission Glossary](https://cros-legacy.ec.europa.eu/content/measurement-error_en)  \n",
    "[Detection limit - Wikipedia](https://en.wikipedia.org/wiki/Detection_limit)  \n",
    "[Error propagation](https://www.webassign.net/question_assets/unccolphysmechl1/measurements/manual.html)  \n",
    "[Error bands - Stack exchange](https://physics.stackexchange.com/questions/496841/what-should-be-the-real-error-band-of-a-fit-function)  \n"
   ]
  },
  {
   "cell_type": "markdown",
   "id": "bfc98132",
   "metadata": {
    "slideshow": {
     "slide_type": "slide"
    }
   },
   "source": [
    "## Why do we need to talk about the uncertain?\n",
    "> “Scientific knowledge is a body of statements of varying degree of certainty  \n",
    "> – some most unsure, some nearly sure, but none absolutely certain.”  \n",
    ">As found in Feynman, RP (1997) Surely You Are Joking, Mr. Feynman, Norton, New York."
   ]
  },
  {
   "cell_type": "markdown",
   "id": "876621a7",
   "metadata": {
    "ExecuteTime": {
     "end_time": "2023-04-07T10:28:19.209266Z",
     "start_time": "2023-04-07T10:28:19.196829Z"
    },
    "slideshow": {
     "slide_type": "slide"
    }
   },
   "source": [
    "## Which uncertainties are we dealing with?\n",
    "\n",
    "<div class=\"row\">\n",
    "<div class=\"column\">\n",
    "\n",
    "### Technical certainties\n",
    "- Metric\n",
    "- Noise\n",
    "- Unsharpness\n",
    "- Effects from image processing\n",
    "- Numerical errors \n",
    "    \n",
    "</div>\n",
    "<div class=\"column\">    \n",
    "\n",
    "### Field specific uncertainties\n",
    "- Model simplifications\n",
    "- Variations in population\n",
    "\n",
    "</div>\n",
    "</div>   \n",
    "    "
   ]
  },
  {
   "cell_type": "markdown",
   "id": "80327034",
   "metadata": {
    "slideshow": {
     "slide_type": "slide"
    }
   },
   "source": [
    "## Uncertainty categories\n",
    "\n",
    "<div class=\"row\">\n",
    "<div class=\"column\">\n",
    "\n",
    "### Systematic\n",
    "Reproducible - no statistical analysis\n",
    "- Rounding errors \n",
    "- Uncalibrated systems\n",
    "- Algorithmic choices\n",
    "- Etc.\n",
    "\n",
    "</div>    \n",
    "<div class=\"column\">  \n",
    "    \n",
    "### Random\n",
    "Statistical fluctuations\n",
    "- Natural variations in studied population\n",
    "- Source fluctuations\n",
    "- Detector noise\n",
    "    \n",
    "</div></div>"
   ]
  },
  {
   "cell_type": "markdown",
   "id": "d2260263",
   "metadata": {
    "slideshow": {
     "slide_type": "slide"
    }
   },
   "source": [
    "## Counting or measuring\n",
    "\n",
    "<div class=\"row\">\n",
    "<div class=\"column\">\n",
    "        \n",
    "__Counting__  \n",
    "    \n",
    "<center><img src=\"figures/np_counting.png\" style=\"height:150px\"/></center>\n",
    "    \n",
    "    \n",
    " - Discrete countable items\n",
    " - Absolute values\n",
    "    \n",
    " Uncertainties: from preparation  \n",
    "\n",
    " _Example:_ area of segmented region\n",
    "        \n",
    "</div>\n",
    "<div class=\"column\">\n",
    "         \n",
    "__Measuring__  \n",
    "    \n",
    "<center><img src=\"figures/np_measure.png\" style=\"height:150px\"/></center>      \n",
    "    \n",
    " - Physical quantities\n",
    " - Values with uncertainties\n",
    "   \n",
    " Uncertainties: Noise, instrumentation  \n",
    "    \n",
    " _Example:_ mixing ratios from gray levels\n",
    "</div>\n",
    "</div>"
   ]
  },
  {
   "cell_type": "markdown",
   "id": "14c39f1f",
   "metadata": {
    "slideshow": {
     "slide_type": "slide"
    }
   },
   "source": [
    "### Target practicing"
   ]
  },
  {
   "cell_type": "code",
   "execution_count": null,
   "id": "aedca86c",
   "metadata": {
    "ExecuteTime": {
     "end_time": "2023-04-15T08:10:13.115679Z",
     "start_time": "2023-04-15T08:10:12.828536Z"
    },
    "hide_input": true
   },
   "outputs": [],
   "source": [
    "precacc(1000)"
   ]
  },
  {
   "cell_type": "markdown",
   "id": "f793913e",
   "metadata": {
    "slideshow": {
     "slide_type": "slide"
    }
   },
   "source": [
    "### Target practicing in statistical terms"
   ]
  },
  {
   "cell_type": "code",
   "execution_count": null,
   "id": "1062c98e",
   "metadata": {
    "ExecuteTime": {
     "end_time": "2023-04-15T08:10:25.218269Z",
     "start_time": "2023-04-15T08:10:24.935331Z"
    },
    "hide_input": true
   },
   "outputs": [],
   "source": [
    "precacc(1000,['Large bias','Small bias','Large variance','Small variance'])"
   ]
  },
  {
   "cell_type": "markdown",
   "id": "e31fc826",
   "metadata": {
    "ExecuteTime": {
     "end_time": "2023-04-07T12:20:45.100799Z",
     "start_time": "2023-04-07T12:20:45.088477Z"
    },
    "slideshow": {
     "slide_type": "slide"
    }
   },
   "source": [
    "## Absolute vs relative uncertainties\n",
    "Errors must be compared from a neutral perspective\n",
    "\n",
    "<div class=\"row\">\n",
    "    <div class=\"column\">\n",
    "\n",
    "### Absolute uncertainty\n",
    "Assume we can measure a distance with an error of 1mm\n",
    "> Distance to the moon - 384400km\n",
    "\n",
    "> The diameter of a coin - 20mm\n",
    "\n",
    "</div>        \n",
    "<div class=\"column\">        \n",
    "        \n",
    "### Relative uncertainty\n",
    "Relates the error to the measured quantity\n",
    "    \n",
    "> Distance to the moon - 0.000000002601457\n",
    "\n",
    "> Diameter of a coin - 0.05\n",
    "    \n",
    "</div></div>"
   ]
  },
  {
   "cell_type": "markdown",
   "id": "fab2b595",
   "metadata": {
    "ExecuteTime": {
     "end_time": "2023-04-07T10:39:20.074828Z",
     "start_time": "2023-04-07T10:39:20.073040Z"
    },
    "slideshow": {
     "slide_type": "slide"
    }
   },
   "source": [
    "## Propagation of uncertainty\n",
    "\n",
    "\n",
    "<div class=\"row\">\n",
    "    <div class=\"column\">\n",
    "\n",
    "### Uncertainty of f(x)\n",
    "\n",
    "$$\\sigma_f(x) = \\frac{\\partial f}{\\partial x}\\cdot \\sigma_{x}$$        \n",
    "        \n",
    "</div>        \n",
    "<div class=\"column\">        \n",
    "        \n",
    "### Uncertainty of f(x,y)\n",
    "\n",
    "$$\\sigma_f(x,y) = \\frac{\\partial f}{\\partial x}\\cdot \\sigma_{x} + \\frac{\\partial f}{\\partial y}\\cdot \\sigma_{y} + \\underbrace{\\frac{\\partial f}{\\partial x}\\cdot\\frac{\\partial f}{\\partial y}\\cdot\\overline{\\sigma_{xy}}}_{\\mbox{x and y uncorrelated?}}$$        \n",
    "\n",
    "    \n",
    "</div></div>"
   ]
  },
  {
   "cell_type": "markdown",
   "id": "09c55103",
   "metadata": {
    "ExecuteTime": {
     "end_time": "2023-04-15T10:24:07.021205Z",
     "start_time": "2023-04-15T10:24:07.009568Z"
    },
    "slideshow": {
     "slide_type": "slide"
    }
   },
   "source": [
    "## Uncertain quantities in imaging experiments\n",
    "\n",
    "- Pixel size\n",
    "- Segmentation\n",
    "- Sampling time stamps in time series\n",
    "- Intensity levels\n",
    "\n",
    "### Three examples\n",
    "- Determine the pixel size\n",
    "- Measure the perimeter length\n",
    "- Meassure water volume behind a pixel"
   ]
  },
  {
   "cell_type": "markdown",
   "id": "70c4dfc5",
   "metadata": {
    "ExecuteTime": {
     "end_time": "2023-04-07T12:21:33.744070Z",
     "start_time": "2023-04-07T12:21:33.735183Z"
    },
    "slideshow": {
     "slide_type": "slide"
    }
   },
   "source": [
    "### Example measure the pixel size\n",
    "To measure pixel size we need:\n",
    "- An object with known length\n",
    "- An image of the object\n",
    "\n",
    "$$\\mbox{pixel size}=\\frac{\\mbox{Object length}}{\\mbox{Pixel distance between edges}}$$\n",
    "\n",
    "#### Uncertainty equation\n",
    "We assume that the two measured values are uncorrelated\n",
    "$$\\frac{\\sigma_{a/b}}{a/b}=\\sqrt{\\left(\\frac{\\sigma_a}{a}\\right)^2 + \\left(\\frac{\\sigma_b}{b}\\right)^2}$$\n",
    "\n",
    "[From this tutorial](https://www.webassign.net/question_assets/unccolphysmechl1/measurements/manual.html)"
   ]
  },
  {
   "cell_type": "markdown",
   "id": "6920753f",
   "metadata": {
    "ExecuteTime": {
     "end_time": "2023-04-07T12:21:33.744070Z",
     "start_time": "2023-04-07T12:21:33.735183Z"
    },
    "slideshow": {
     "slide_type": "slide"
    }
   },
   "source": [
    "#### Our measurements\n",
    "    "
   ]
  },
  {
   "cell_type": "code",
   "execution_count": null,
   "id": "6f2c93b2",
   "metadata": {
    "ExecuteTime": {
     "end_time": "2023-04-07T12:54:09.930507Z",
     "start_time": "2023-04-07T12:54:09.033860Z"
    },
    "hide_input": true,
    "scrolled": false
   },
   "outputs": [],
   "source": [
    "img1 = tiff.imread('data/edge20mm_0000.tif')\n",
    "pic = plt.imread('figures/edge_object.jpg')\n",
    "fig,ax=plt.subplots(1,2,figsize=(12,5))\n",
    "\n",
    "ax[0].imshow(pic)\n",
    "ax[0].set_xticks([])\n",
    "ax[0].set_yticks([])\n",
    "ax[0].set_title('Real object')\n",
    "\n",
    "ax[1].imshow(img1,vmin=300,vmax=30000,cmap='gray');\n",
    "ax[1].set_xlabel('x [pixels]')\n",
    "ax[1].set_ylabel('y [pixels]');\n",
    "arrow = patches.FancyArrowPatch((55,104), (526, 73),\n",
    "                                 mutation_scale=20,\n",
    "                                 #ec='blue',fc='cornflowerblue',\n",
    "                                 color='red',\n",
    "                                 arrowstyle='<|-|>',linewidth=3\n",
    "                                )\n",
    "ax[1].add_patch(arrow);\n",
    "#ax.annotate(text='', xy=(54,104), xytext=(527,71), arrowprops=dict(arrowstyle='<->',color='yellow',lw=4))\n",
    "d=np.sqrt((528-53)**2+(104-73)**2)\n",
    "ax[1].set_title('Distance between edges');\n"
   ]
  },
  {
   "cell_type": "markdown",
   "id": "ca0b097a",
   "metadata": {
    "ExecuteTime": {
     "end_time": "2023-04-07T12:21:33.744070Z",
     "start_time": "2023-04-07T12:21:33.735183Z"
    },
    "slideshow": {
     "slide_type": "-"
    }
   },
   "source": [
    "| Quantity  | Measurement | Uncertainty   | Unit |\n",
    "|:---|---:|---:|---|\n",
    "| Caliper distance  | 20.0 | 0.05 | mm |\n",
    "| Pixel distance    | 464.9  | 0.32  | pixels |\n",
    "\n",
    "\n",
    "[A tutorial showing the detailed analysis](https://colab.research.google.com/github/ImagingELearning/resolution/blob/main/tutorials/02_PixelSize/02_PixelSize.ipynb)"
   ]
  },
  {
   "cell_type": "markdown",
   "id": "4f652ebc",
   "metadata": {
    "slideshow": {
     "slide_type": "slide"
    }
   },
   "source": [
    "#### Pixel size with uncertainty\n",
    "We know uncertainty equation for $a/b$. \n",
    "\n",
    "Let's plug in the pixel meassurements:\n",
    "\n",
    "$$\\frac{\\sigma_{Pixelsize}}{Pixelsize}=\\sqrt{\\biggl({\\frac{\\sigma_{pixels}}{pixels} }\\biggr)^2+ \\biggl({\\frac{\\sigma_{length}}{length}}\\biggr)^2}$$"
   ]
  },
  {
   "cell_type": "code",
   "execution_count": null,
   "id": "b69fbe93",
   "metadata": {
    "ExecuteTime": {
     "end_time": "2023-04-15T12:46:26.085313Z",
     "start_time": "2023-04-15T12:46:26.070880Z"
    }
   },
   "outputs": [],
   "source": [
    "length       = 20.0 # mm\n",
    "error_length = 0.05 # mm\n",
    "pixels       = 464.9 # pixels\n",
    "error_pixels = 0.32  # pixels\n",
    "\n",
    "pixel_size = length/pixels\n",
    "\n",
    "rel_uncertainty = np.sqrt((error_pixels/pixels)**2 + (error_length/length)**2)\n",
    "\n",
    "print('Pixel size = {0:0.3f} mm/pixel +/- {1:0.4f}%'.format(pixel_size,rel_uncertainty*100))"
   ]
  },
  {
   "cell_type": "markdown",
   "id": "54a94f55",
   "metadata": {
    "ExecuteTime": {
     "end_time": "2023-04-07T12:31:53.925101Z",
     "start_time": "2023-04-07T12:31:53.910237Z"
    },
    "slideshow": {
     "slide_type": "slide"
    }
   },
   "source": [
    "## Meassurements in segmented images\n",
    "\n",
    "In lecture 5 we learned to measure\n",
    "\n",
    "- Area \n",
    "- Perimeter \n",
    "- Positions \n",
    "- Distances\n",
    "\n",
    "Considering them to be absolute values as we mostly just count pixels...\n",
    "\n",
    "_Let's see how the uncertainty of the pixel size among others changes this_ \n",
    "\n",
    "\n",
    "\n"
   ]
  },
  {
   "cell_type": "markdown",
   "id": "2f2a2126",
   "metadata": {
    "slideshow": {
     "slide_type": "slide"
    }
   },
   "source": [
    "### Meassure the perimeter length\n",
    "\n",
    "The perimeter length has three sources of uncertainty:\n",
    "- How were the edge pixels identified?\n",
    "    _Method choices can introduce biases_\n",
    "- The pixel size... \n",
    "\n",
    "and...\n",
    "\n",
    "- How well was the image segmented?  \n",
    "    _Edges are segmented with least confidence_"
   ]
  },
  {
   "cell_type": "markdown",
   "id": "71beb720",
   "metadata": {
    "slideshow": {
     "slide_type": "slide"
    }
   },
   "source": [
    "#### Selecting edge pixels\n",
    "\n",
    "A method to identify edge pixels is \n",
    "$$edge(f) = f - \\varepsilon_{SE}(f)$$\n",
    "which pixels depends on the used SE.\n",
    "\n",
    "\n",
    "<center>\n",
    "<img src=\"figures/edge_detail.png\" style=\"width:250px\"/>\n",
    "</center>\n",
    "\n",
    "#### Counting perimeter elements"
   ]
  },
  {
   "cell_type": "code",
   "execution_count": null,
   "id": "151401db",
   "metadata": {
    "ExecuteTime": {
     "end_time": "2023-04-15T12:36:05.686073Z",
     "start_time": "2023-04-15T12:36:05.493402Z"
    },
    "hide_input": true,
    "scrolled": true
   },
   "outputs": [],
   "source": [
    "imgs=[plt.imread('figures/edge_detail_pixel_count.png'), \n",
    "      plt.imread('figures/edge_detail_outline.png'), \n",
    "      plt.imread('figures/edge_detail_centerline.png')]\n",
    "lbls=['Counting pixels (18)', 'Edges facing background (24)','Center line (20.5)']\n",
    "\n",
    "_,axs = plt.subplots(1,3, figsize=(15,6))\n",
    "for ax,img,lbl in zip(axs,imgs,lbls) :\n",
    "    ax.imshow(img)\n",
    "    ax.set_title(lbl)\n",
    "    ax.axis('off')"
   ]
  },
  {
   "cell_type": "code",
   "execution_count": null,
   "id": "1fbbc008",
   "metadata": {
    "hide_input": true
   },
   "outputs": [],
   "source": []
  },
  {
   "cell_type": "markdown",
   "id": "b405061d",
   "metadata": {
    "slideshow": {
     "slide_type": "slide"
    }
   },
   "source": [
    "### Perimeter length with uncertainty\n",
    "\n",
    "Let's assume we can trust the segmentation:\n",
    "- Edge is 18 pixels long\n",
    "- The pixel size is 0.043 mm/pixel $\\pm$  0.2593%\n",
    "\n",
    "#### Uncertainty equation\n",
    "In this case we sum the edge pixels "
   ]
  },
  {
   "cell_type": "markdown",
   "id": "86e252c9",
   "metadata": {
    "slideshow": {
     "slide_type": "notes"
    }
   },
   "source": [
    "_Derivation of the equation_\n",
    "\n",
    "The uncertainty of a sum of measurements $\\sum^N_{i=1}x_i$ each with all $x_i$ uncorrelated and the same uncertainty $\\sigma_x$. \n",
    "\n",
    "Lets start with the derivative:\n",
    "$\\frac{\\partial f}{\\partial x_i}=1\\quad \\forall i$\n",
    "\n",
    "now the uncertainty is the squared sum of all $x_i$  \n",
    "\n",
    "${\\sigma_{\\sum x_i}}^2 = \\sum_{i=1}^N {\\sigma_x}^2 = N {\\sigma_x}^2$\n",
    "\n",
    "which leads to "
   ]
  },
  {
   "cell_type": "markdown",
   "id": "259f593c",
   "metadata": {
    "slideshow": {
     "slide_type": "slide"
    }
   },
   "source": [
    "$$\\sigma_{\\sum x_i} = \\sigma_x \\cdot \\sqrt{N}$$\n",
    "\n",
    "We have $\\sigma_{Pixelsize}$=0.11 $\\mu{}m$, which gives $\\sigma_{Edgelength}=0.11\\cdot\\sqrt{18}=0.506 \\mu{}m$\n",
    "\n",
    "The edge length is 774 $\\pm$ 0.5 $\\mu{}m$"
   ]
  },
  {
   "cell_type": "markdown",
   "id": "72f97277",
   "metadata": {
    "ExecuteTime": {
     "end_time": "2023-04-07T13:11:36.791517Z",
     "start_time": "2023-04-07T13:11:36.786243Z"
    },
    "slideshow": {
     "slide_type": "slide"
    }
   },
   "source": [
    "## Confidence map of a segmentation"
   ]
  },
  {
   "cell_type": "code",
   "execution_count": null,
   "id": "158a83f2",
   "metadata": {},
   "outputs": [],
   "source": []
  }
 ],
 "metadata": {
  "celltoolbar": "Slideshow",
  "kernelspec": {
   "display_name": "Python 3 (ipykernel)",
   "language": "python",
   "name": "python3"
  },
  "language_info": {
   "codemirror_mode": {
    "name": "ipython",
    "version": 3
   },
   "file_extension": ".py",
   "mimetype": "text/x-python",
   "name": "python",
   "nbconvert_exporter": "python",
   "pygments_lexer": "ipython3",
   "version": "3.9.15"
  },
  "varInspector": {
   "cols": {
    "lenName": 16,
    "lenType": 16,
    "lenVar": 40
   },
   "kernels_config": {
    "python": {
     "delete_cmd_postfix": "",
     "delete_cmd_prefix": "del ",
     "library": "var_list.py",
     "varRefreshCmd": "print(var_dic_list())"
    },
    "r": {
     "delete_cmd_postfix": ") ",
     "delete_cmd_prefix": "rm(",
     "library": "var_list.r",
     "varRefreshCmd": "cat(var_dic_list()) "
    }
   },
   "types_to_exclude": [
    "module",
    "function",
    "builtin_function_or_method",
    "instance",
    "_Feature"
   ],
   "window_display": false
  }
 },
 "nbformat": 4,
 "nbformat_minor": 5
}
