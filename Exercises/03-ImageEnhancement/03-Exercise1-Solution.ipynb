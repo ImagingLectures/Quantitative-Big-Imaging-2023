{
 "cells": [
  {
   "cell_type": "markdown",
   "metadata": {},
   "source": [
    "# Exercise 1 \n",
    "\n",
    "## Import Libraries\n",
    "Python requires importing libraries and functions you need to access specific tools like science (scipy), linear algebra (numpy), and graphics (matplotlib). These libraries can be installed using the ```pip``` command line tool. Alternatively you can install an python distribution like [Anaconda](https://www.continuum.io/downloads) or [Canopy](https://www.enthought.com/products/canopy/)  which have these and many other standard package pre-installed."
   ]
  },
  {
   "cell_type": "code",
   "execution_count": null,
   "metadata": {},
   "outputs": [],
   "source": [
    "import matplotlib.pyplot as plt # plotting\n",
    "from skimage.io import imread # read in images\n",
    "import numpy as np # linear algebra / matrices\n",
    "from matplotlib.patches import Rectangle\n",
    "# make the notebook interactive\n",
    "from ipywidgets import interact, interactive, fixed \n",
    "import ipywidgets as widgets #add new widgets\n",
    "from IPython.display import display\n",
    "class idict(dict):\n",
    "    def __init__(self,*args,**kwargs) : dict.__init__(self,*args,**kwargs) \n",
    "    def __str__(self): return 'ImageDictionary'\n",
    "    def __repr__(self): return 'ImageDictionary'"
   ]
  },
  {
   "cell_type": "markdown",
   "metadata": {},
   "source": [
    "## Load Images\n",
    "Make sure you extract the ```matlab.zip``` file to the same directory as this notebook so there is a ```data/``` directory (or fix the paths after the ```imread``` command"
   ]
  },
  {
   "cell_type": "code",
   "execution_count": null,
   "metadata": {},
   "outputs": [],
   "source": [
    "a=imread('data/scroll.tif')\n",
    "b=imread('data/wood.tif')\n",
    "c=imread('data/asphalt_gray.tif')"
   ]
  },
  {
   "cell_type": "markdown",
   "metadata": {},
   "source": [
    "## Showing images"
   ]
  },
  {
   "cell_type": "code",
   "execution_count": null,
   "metadata": {},
   "outputs": [],
   "source": [
    "%matplotlib inline\n",
    "# setup the plotting environment\n",
    "plt.imshow(a, cmap = 'gray'); # show a single image"
   ]
  },
  {
   "cell_type": "markdown",
   "metadata": {},
   "source": [
    "### Subplots\n",
    "Here we show multiple subplots within a single figure"
   ]
  },
  {
   "cell_type": "code",
   "execution_count": null,
   "metadata": {},
   "outputs": [],
   "source": [
    "%matplotlib inline\n",
    "fig, (ax1, ax2, ax3) = plt.subplots(1, 3, figsize=(15,5))\n",
    "ax1.imshow(a, cmap = 'gray')\n",
    "ax2.imshow(b, cmap = 'gray')\n",
    "ax3.imshow(c, cmap = 'gray')"
   ]
  },
  {
   "cell_type": "markdown",
   "metadata": {},
   "source": [
    "## Compute SNR\n",
    "We can compute the SNR by looking at the ratio of the mean to the standard deviation in a region that is supposed to be constant\n",
    "\n",
    "$$ SNR = \\frac{\\mu_{img}}{\\sigma_{img}} $$"
   ]
  },
  {
   "cell_type": "code",
   "execution_count": null,
   "metadata": {
    "scrolled": false
   },
   "outputs": [],
   "source": [
    "# Identify the region\n",
    "x1 = 75\n",
    "x2 = 200\n",
    "y1 = 875\n",
    "y2 = 1000\n",
    "\n",
    "fig, ax = plt.subplots(1,2,figsize=(12,5))\n",
    "ax[0].imshow(a)\n",
    "ax[0].add_patch( Rectangle((x1, y1),\n",
    "                        x2-x1, y2-y1,\n",
    "                        fc ='none', \n",
    "                        ec ='r',\n",
    "                        lw = 1) )\n",
    "# extract a sub image\n",
    "subA1=a[y1:y2,x1:x2];\n",
    "snrA1=np.mean(subA1)/np.std(subA1) # compute the snr\n",
    "print(\"SNR for A_1 is {}\".format(snrA1))\n",
    "ax[1].imshow(subA1);"
   ]
  },
  {
   "cell_type": "markdown",
   "metadata": {},
   "source": [
    "## __Tasks__\n",
    "1. Find a second region in a\n",
    "1. Repeat the procedure with images b and c"
   ]
  },
  {
   "cell_type": "code",
   "execution_count": null,
   "metadata": {
    "scrolled": false
   },
   "outputs": [],
   "source": [
    "# Identify the region\n",
    "x1 = 700\n",
    "x2 = 750\n",
    "y1 = 1100\n",
    "y2 = 1150\n",
    "\n",
    "fig, ax = plt.subplots(1,2,figsize=(12,5))\n",
    "ax[0].imshow(a)\n",
    "ax[0].add_patch( Rectangle((x1, y1),\n",
    "                        x2-x1, y2-y1,\n",
    "                        fc ='none', \n",
    "                        ec ='r',\n",
    "                        lw = 1) )\n",
    "# extract a sub image\n",
    "subA1=a[y1:y2,x1:x2];\n",
    "snrA1=np.mean(subA1)/np.std(subA1) # compute the snr\n",
    "print(\"SNR for A_1 is {}\".format(snrA1))\n",
    "ax[1].imshow(subA1);"
   ]
  },
  {
   "cell_type": "code",
   "execution_count": null,
   "metadata": {
    "scrolled": false
   },
   "outputs": [],
   "source": [
    "# Identify the region\n",
    "x1 = 150\n",
    "x2 = 200\n",
    "y1 = 100\n",
    "y2 = 150\n",
    "\n",
    "fig, ax = plt.subplots(1,2,figsize=(12,5))\n",
    "ax[0].imshow(b)\n",
    "ax[0].add_patch( Rectangle((x1, y1),\n",
    "                        x2-x1, y2-y1,\n",
    "                        fc ='none', \n",
    "                        ec ='r',\n",
    "                        lw = 1) )\n",
    "# extract a sub image\n",
    "subA1=b[y1:y2,x1:x2];\n",
    "snrA1=np.mean(subA1)/np.std(subA1) # compute the snr\n",
    "print(\"SNR for A_1 is {}\".format(snrA1))\n",
    "ax[1].imshow(subA1);"
   ]
  },
  {
   "cell_type": "code",
   "execution_count": null,
   "metadata": {
    "scrolled": false
   },
   "outputs": [],
   "source": [
    "# Identify the region\n",
    "x1 = 150\n",
    "x2 = 200\n",
    "y1 = 950\n",
    "y2 = 1000\n",
    "\n",
    "fig, ax = plt.subplots(1,2,figsize=(12,5))\n",
    "ax[0].imshow(c)\n",
    "ax[0].add_patch( Rectangle((x1, y1),\n",
    "                        x2-x1, y2-y1,\n",
    "                        fc ='none', \n",
    "                        ec ='r',\n",
    "                        lw = 1) )\n",
    "# extract a sub image\n",
    "subA1=a[y1:y2,x1:x2];\n",
    "snrA1=np.mean(subA1)/np.std(subA1) # compute the snr\n",
    "print(\"SNR for A_1 is {}\".format(snrA1))\n",
    "ax[1].imshow(subA1);"
   ]
  },
  {
   "cell_type": "markdown",
   "metadata": {},
   "source": [
    "# Exercise 2\n",
    "Test filter performance for different SNR and filter types. We will here focus on the uniform convolution filter kernel and the median filter.\n",
    "\n",
    "The first step is to create a set of noisy images based on the clean image ```data/testpattern.png```. "
   ]
  },
  {
   "cell_type": "code",
   "execution_count": null,
   "metadata": {
    "scrolled": true
   },
   "outputs": [],
   "source": [
    "img=np.mean(imread('data/testpattern.png'),2)\n",
    "plt.imshow(img, cmap= 'gray');"
   ]
  },
  {
   "cell_type": "markdown",
   "metadata": {},
   "source": [
    "Next step is to create a dictionary of noisy images with different SNR, e.g. SNR=1,2,5,10,20,100. Use additive white Gaussian noise.\n",
    "The random number generator is imported from numpy ```import numpy.random.normal as normal```."
   ]
  },
  {
   "cell_type": "code",
   "execution_count": null,
   "metadata": {},
   "outputs": [],
   "source": [
    "SNRs = [1.0,2.0,5.0,10.0,20.0,100.0]\n",
    "noisy_images = {}\n",
    "\n",
    "for SNR in SNRs :\n",
    "    noisy_images[SNR]=img/img.max() + 1.0/SNR*np.random.normal(0,1,size=img.shape) \n",
    "    \n",
    "fig, axes = plt.subplots(2,3,figsize = (15,10))\n",
    "axes=axes.ravel()\n",
    "    \n",
    "for  ((snr,img),ax) in zip(noisy_images.items(),axes) :\n",
    "    ax.imshow(img)\n"
   ]
  },
  {
   "cell_type": "markdown",
   "metadata": {},
   "source": [
    "# Filter the images\n",
    "You can read about the standard filters in scipy by looking at the documentation in http://docs.scipy.org/doc/scipy-0.14.0/reference/ndimage.html#module-scipy.ndimage.filters alternatively more (different) filters are available using scikit image or OpenCV for the more advanced students\n",
    "\n",
    "## Uniform Filters\n",
    "Check the uniform filter documentation for reference:\n",
    "http://docs.scipy.org/doc/scipy-0.14.0/reference/generated/scipy.ndimage.filters.uniform_filter.html#scipy.ndimage.filters.uniform_filter\n",
    "\n",
    "In this example we explore how the filter width of a uniform filter affects the image quality of the noisy test images we created earlier. Pay attention to how the SNR improves with the filter size and what the effect is on the edges in the image. \n",
    "\n",
    "The code below is mainly about showing the results. The important lines are commented."
   ]
  },
  {
   "cell_type": "code",
   "execution_count": null,
   "metadata": {},
   "outputs": [],
   "source": [
    "from scipy.ndimage.filters import uniform_filter\n",
    "\n",
    "# Size of the filter windows. You can select different filter sizes if you like. \n",
    "# Always use odd numbers for the filter size unless you have a good reason. \n",
    "N=[3,5,7];\n",
    "\n",
    "fig, all_axes = plt.subplots(5, 1+len(N), figsize=(15,20))\n",
    "for ((snr,img),ax) in zip(noisy_images.items(),all_axes) :\n",
    "    ax[0].imshow(img,cmap='gray')\n",
    "    ax[0].set_title(\"Raw, SNR:{}\".format(snr))\n",
    "    for idx,filter_size in enumerate(N):       \n",
    "        \n",
    "        filtered = uniform_filter(img,filter_size) # Here the actual filtering takes place\n",
    "        \n",
    "        ax[1+idx].imshow(filtered, cmap='gray')\n",
    "        ax[1+idx].set_title(\"N:{}, SNR:{}\".format(filter_size,snr))"
   ]
  },
  {
   "cell_type": "markdown",
   "metadata": {},
   "source": [
    "## Median Filter\n",
    "Complete the same exercise as before using the median filter. Docs: http://docs.scipy.org/doc/scipy-0.14.0/reference/generated/scipy.ndimage.filters.median_filter.html#scipy.ndimage.filters.median_filter\n",
    "\n",
    "Do you notice a difference? If, yes for which SNR and filter sizes?"
   ]
  },
  {
   "cell_type": "code",
   "execution_count": null,
   "metadata": {},
   "outputs": [],
   "source": [
    "# insert your code here\n",
    "from scipy.ndimage.filters import median_filter\n",
    "\n",
    "# Size of the filter windows. You can select different filter sizes if you like. \n",
    "# Always use odd numbers for the filter size unless you have a good reason. \n",
    "N=[3,5,7];\n",
    "\n",
    "fig, all_axes = plt.subplots(5, 1+len(N), figsize=(15,20))\n",
    "for ((snr,img),ax) in zip(noisy_images.items(),all_axes) :\n",
    "    ax[0].imshow(img,cmap='gray')\n",
    "    ax[0].set_title(\"Raw, SNR:{}\".format(snr))\n",
    "    for idx,filter_size in enumerate(N):       \n",
    "        \n",
    "        filtered = median_filter(img,filter_size) # Here the actual filtering takes place\n",
    "        \n",
    "        ax[1+idx].imshow(filtered, cmap='gray')\n",
    "        ax[1+idx].set_title(\"N:{}, SNR:{}\".format(filter_size,snr))"
   ]
  },
  {
   "cell_type": "markdown",
   "metadata": {},
   "source": [
    "\n"
   ]
  },
  {
   "cell_type": "markdown",
   "metadata": {},
   "source": [
    "## Exercise 3 - Diffusion filter\n",
    "The diffusion filter is more complicated than the previous filters we have used. It is based on iteratively solving \n",
    "\n",
    "$$\\frac {\\partial I}{\\partial t}=\\mathrm {div} \\left(c(|\\nabla (G_{\\sigma }*I)|^{2})\\nabla I\\right)$$\n",
    "\n",
    "for the image $I$. \n",
    "\n",
    "The regularization function \n",
    "\n",
    "$$G_{\\sigma }=C{\\sigma }^{-\\left(1/2\\right)}\\exp \\left(-|x|^{2}/4{\\sigma }\\right)$$\n",
    "\n",
    "is used to reduce the impact of noise in the diffusivity function. In a second step you will implement this smoothing in the filter code."
   ]
  },
  {
   "cell_type": "code",
   "execution_count": null,
   "metadata": {
    "scrolled": false
   },
   "outputs": [],
   "source": [
    "from tqdm.notebook import tqdm\n",
    "from scipy.ndimage.filters import gaussian_filter\n",
    "# Original\n",
    "#def anisodiff(img,niter=1,kappa=50,gamma=0.1,step=(1.,1.),sigma=0.0,option=1,ploton=False):\n",
    "# Modified to control the steepness of option=2\n",
    "def anisodiff(img,niter=1,kappa=50,gamma=0.1,step=(1.,1.),sigma=0.0,N=2,option=1,ploton=False):\n",
    "    \"\"\"\n",
    "    Anisotropic diffusion.\n",
    "\n",
    "    Usage:\n",
    "    imgout = anisodiff(im, niter, kappa, gamma, option)\n",
    "\n",
    "    Arguments:\n",
    "            img    - input image\n",
    "            niter  - number of iterations\n",
    "            kappa  - conduction coefficient 20-100 ?\n",
    "            gamma  - max value of .25 for stability\n",
    "            step   - tuple, the distance between adjacent pixels in (y,x)\n",
    "            option - 1 Perona Malik diffusion equation No 1\n",
    "                     2 Perona Malik diffusion equation No 2\n",
    "            ploton - if True, the image will be plotted on every iteration\n",
    "\n",
    "    Returns:\n",
    "            imgout   - diffused image.\n",
    "\n",
    "    kappa controls conduction as a function of gradient.  If kappa is low\n",
    "    small intensity gradients are able to block conduction and hence diffusion\n",
    "    across step edges.  A large value reduces the influence of intensity\n",
    "    gradients on conduction.\n",
    "\n",
    "    gamma controls speed of diffusion (you usually want it at a maximum of\n",
    "    0.25)\n",
    "\n",
    "    step is used to scale the gradients in case the spacing between adjacent\n",
    "    pixels differs in the x and y axes\n",
    "\n",
    "    Diffusion equation 1 favours high contrast edges over low contrast ones.\n",
    "    Diffusion equation 2 favours wide regions over smaller ones.\n",
    "\n",
    "    Reference: \n",
    "    P. Perona and J. Malik. \n",
    "    Scale-space and edge detection using ansotropic diffusion.\n",
    "    IEEE Transactions on Pattern Analysis and Machine Intelligence, \n",
    "    12(7):629-639, July 1990.\n",
    "\n",
    "    Original MATLAB code by Peter Kovesi  \n",
    "    School of Computer Science & Software Engineering\n",
    "    The University of Western Australia\n",
    "    pk @ csse uwa edu au\n",
    "    <http://www.csse.uwa.edu.au>\n",
    "\n",
    "    Translated to Python and optimised by Alistair Muldal\n",
    "    Department of Pharmacology\n",
    "    University of Oxford\n",
    "    <alistair.muldal@pharm.ox.ac.uk>\n",
    "\n",
    "    June 2000  original version.       \n",
    "    March 2002 corrected diffusion eqn No 2.\n",
    "    July 2012 translated to Python\n",
    "\n",
    "    February 2020 Revised for Python 3.6 / A. Kaestner\n",
    "    \"\"\"\n",
    "\n",
    "    # ...you could always diffuse each color channel independently if you\n",
    "    # really want\n",
    "    if img.ndim == 3:\n",
    "        warnings.warn(\"Only grayscale images allowed, converting to 2D matrix\")\n",
    "        img = img.mean(2)\n",
    "\n",
    "    # initialize output array\n",
    "    img    = img.astype('float32')\n",
    "    imgout = img.copy()\n",
    "    \n",
    "    print(imgout.shape)\n",
    "\n",
    "    # initialize some internal variables\n",
    "    deltaS = np.zeros_like(imgout)\n",
    "    deltaE = np.zeros_like(imgout)\n",
    "    NS     = np.zeros_like(imgout)\n",
    "    EW     = np.zeros_like(imgout)\n",
    "    gS     = np.ones_like(imgout)\n",
    "    gE     = np.ones_like(imgout)\n",
    "\n",
    "    # create the plot figure, if requested\n",
    "    if ploton:\n",
    "        import matplotlib.pyplot as plt\n",
    "        from time import sleep\n",
    "        fig,ax = plt.subplots(1,3,figsize=(15,4),num=\"Anisotropic diffusion\")\n",
    "\n",
    "        ax[0].imshow(img)#,interpolation='nearest')\n",
    "        ax[0].set_title('Original')\n",
    "\n",
    "        \n",
    "    for ii in tqdm(range(niter)):\n",
    "        # calculate the diffs\n",
    "        deltaS[:-1,: ] = np.diff(imgout,axis=0)\n",
    "        deltaE[: ,:-1] = np.diff(imgout,axis=1)        \n",
    "\n",
    "        if sigma != 0.0 :\n",
    "            deltaS_smooth=deltaS\n",
    "            deltaE_smooth=deltaE\n",
    "        else :\n",
    "            deltaS_smooth=gaussian_filter(deltaS,sigma=sigma)\n",
    "            deltaE_smooth=gaussian_filter(deltaE,sigma=sigma)\n",
    "        \n",
    "        # conduction gradients (only need to compute one per dim!)\n",
    "        if option == 1:\n",
    "            gS = np.exp(-(deltaS_smooth/kappa)**2.)/step[0]\n",
    "            gE = np.exp(-(deltaE_smooth/kappa)**2.)/step[1]\n",
    "        elif option == 2:\n",
    "            # Original\n",
    "            gS = 1./(1.+(deltaS_smooth/kappa)**2.)/step[0]\n",
    "            gE = 1./(1.+(deltaE_smooth/kappa)**2.)/step[1]\n",
    "            # Updated to control the steepness\n",
    "#             gS = 1./(1.+(deltaS/kappa)**N)/step[0]\n",
    "#             gE = 1./(1.+(deltaE/kappa)**N)/step[1]\n",
    "\n",
    "        # update matrices\n",
    "        E = gE*deltaE\n",
    "        S = gS*deltaS\n",
    "\n",
    "        # subtract a copy that has been shifted 'North/West' by one\n",
    "        # pixel. don't as questions. just do it. trust me.\n",
    "        NS[:] = S\n",
    "        EW[:] = E\n",
    "    \n",
    "        NS[1:,:] -= S[:-1,:]\n",
    "        EW[:,1:] -= E[:,:-1]\n",
    "\n",
    "        # update the image\n",
    "        update = gamma*(NS+EW)\n",
    "        imgout += update\n",
    "        \n",
    "        #print(np.abs(update).mean(),np.abs(imgout).mean())\n",
    "\n",
    "    if ploton:\n",
    "        m=imgout.mean()\n",
    "        s=imgout.std()\n",
    "#             plt.imshow(imgout,vmin=m-2*s,vmax=m+2*s,interpolation='nearest')\n",
    "        ax[1].imshow(imgout)#,interpolation='nearest')\n",
    "        ax[1].set_title(\"Result\")\n",
    "\n",
    "        diffRes = img-imgout\n",
    "\n",
    "        m=diffRes.mean()\n",
    "        s=diffRes.std()\n",
    "        vmin=m-2*s\n",
    "        vmax=m+2*s\n",
    "        \n",
    "        vmin=diffRes.min()\n",
    "        vmax=diffRes.max()\n",
    "\n",
    "\n",
    "        ax[2].imshow(diffRes,vmin=m-2*s,vmax=m+2*s)\n",
    "       # ax[2].imshow(diffRes)#,interpolation='nearest')\n",
    "        ax[2].set_title('Difference before - after')\n",
    "\n",
    "#         ax[1].imshow(deltaE_smooth,interpolation='nearest')\n",
    "#         ax[2].imshow(deltaS_smooth,interpolation='nearest')\n",
    "\n",
    "\n",
    "    return imgout\n",
    "\n",
    "niter=30\n",
    "kappa=3000\n",
    "gamma=0.1 \n",
    "sigma = 0.5\n",
    "step=(0.25, 0.25) \n",
    "option=1  # select weighing equation\n",
    "ploton=True\n",
    "res=anisodiff(img=b, niter=niter, kappa=kappa, gamma=gamma, step=step, option=option,N=5,ploton=ploton)"
   ]
  },
  {
   "cell_type": "markdown",
   "metadata": {},
   "source": [
    "### Part 3.1 Find filter parameters\n",
    "__Task:__ Tune the filter parameters for the three experiment images.  \n",
    "In this exercise you need to find the parameters to suppress the noise in the image.  \n",
    "__Hint:__ compute the histogram of the gradient image, this will guide you. A very important parameter is $\\kappa$ that acts a sensitivity threshold on the gradient contribution. The solution time  i.e. $n_{iter} \\times step$ also plays a role in the filter strength. \n",
    "\n",
    "There are two conductivity controlling functions \n",
    "\n",
    "$$c_1(x)=e^{-(x/\\kappa)^2.}$$\n",
    "\n",
    "and \n",
    "\n",
    "$$c_2(x)=\\frac{1}{1+(x/\\kappa)^2}$$\n",
    "\n",
    "Plot these with the histogram of the gradient image to better understand how to set $\\kappa$."
   ]
  },
  {
   "cell_type": "code",
   "execution_count": null,
   "metadata": {
    "scrolled": true
   },
   "outputs": [],
   "source": [
    "from skimage.filters import sobel # the sobel filter computes the absolute gradient of an image.\n",
    "\n",
    "def findKappa(img,k1=0.3,k2=0.2,N=2) :\n",
    "    edge_magnitude = sobel(img)\n",
    "\n",
    "    fig,ax = plt.subplots(1,3,figsize=(15,5))\n",
    "    h=np.histogram(edge_magnitude.ravel(),bins=200);\n",
    "    h[0][0]=h[0][1]\n",
    "    ax[0].plot(h[1][1:],h[0],label='histogram')\n",
    "    ax[0].plot(h[1][1:],h[0].max()*np.exp(-(h[1][1:]/k1)**2),label='$c_1(x)$')\n",
    "    ax[0].plot(h[1][1:],h[0].max()*(1/(1+(h[1][1:]/k2)**N)),label='$c_2(x)$')\n",
    "    ax[0].legend()\n",
    "    a1=ax[1].imshow(np.exp(-(edge_magnitude/k1)**2))\n",
    "    fig.colorbar(a1,ax=ax[1],shrink=0.75)\n",
    "    ax[1].set_title('$c_1$')\n",
    "    a2=ax[2].imshow(1/(1+(edge_magnitude/k2)**N))\n",
    "    fig.colorbar(a2,ax=ax[2],shrink=0.75)\n",
    "    ax[2].set_title('$c_2$');\n",
    "    \n",
    "findKappa(a,k1=20000,k2=20000)"
   ]
  },
  {
   "cell_type": "markdown",
   "metadata": {},
   "source": [
    "### Solution\n",
    "It is best to rewrite the example code into a function. This makes the testing easier."
   ]
  },
  {
   "cell_type": "markdown",
   "metadata": {},
   "source": [
    "#### Image A\n",
    "Image A has a very low SNR, this makes it hard to find good parameters"
   ]
  },
  {
   "cell_type": "code",
   "execution_count": null,
   "metadata": {},
   "outputs": [],
   "source": [
    "findKappa(a,k1=0.20000,k2=.20000,N=5)"
   ]
  },
  {
   "cell_type": "markdown",
   "metadata": {},
   "source": [
    "#### Image B\n",
    "With images B and C it makes sense to play with the steepness of $c_2(x)$. This requires a modification of the filter function above to add the parameter $N$ in\n",
    "\n",
    "$$c_2(x)=\\frac{1}{1+(x/\\kappa)^N}$$"
   ]
  },
  {
   "cell_type": "code",
   "execution_count": null,
   "metadata": {},
   "outputs": [],
   "source": [
    "findKappa(b,k1=0.10000,k2=0.10000,N=5)"
   ]
  },
  {
   "cell_type": "markdown",
   "metadata": {},
   "source": [
    "#### Image C\n"
   ]
  },
  {
   "cell_type": "code",
   "execution_count": null,
   "metadata": {},
   "outputs": [],
   "source": [
    "findKappa(c,k1=0.20,k2=0.07,N=8)"
   ]
  },
  {
   "cell_type": "markdown",
   "metadata": {},
   "source": [
    "Great values in this histogram are asociated with the edges. As you can see, there is not very much edge information in this image. The purpose of the conductivity function is to stop the diffusion the edges and only let it act "
   ]
  },
  {
   "cell_type": "code",
   "execution_count": null,
   "metadata": {},
   "outputs": [],
   "source": [
    "niter=30\n",
    "kappa=10000 \n",
    "gamma=0.1 \n",
    "sigma = 0.0\n",
    "step=(0.25, 0.25) \n",
    "option=1  # select weighing equation\n",
    "ploton=True\n",
    "res=anisodiff(img=a, niter=niter, kappa=kappa, gamma=gamma, step=step, option=option,N=5,ploton=ploton)"
   ]
  },
  {
   "cell_type": "code",
   "execution_count": null,
   "metadata": {},
   "outputs": [],
   "source": [
    "niter=30 \n",
    "kappa=2000\n",
    "gamma=0.1 \n",
    "step=(0.25, 0.25) \n",
    "option=2  # select weighing equation\n",
    "ploton=True\n",
    "res=anisodiff(img=b, niter=niter, kappa=kappa, gamma=gamma, step=step, option=option,N=5,ploton=ploton)"
   ]
  },
  {
   "cell_type": "code",
   "execution_count": null,
   "metadata": {},
   "outputs": [],
   "source": [
    "niter=30\n",
    "kappa=200\n",
    "gamma=0.1 \n",
    "step=(0.25, 0.25) \n",
    "option=2  # select weighing equation\n",
    "sigma=1\n",
    "ploton=True\n",
    "res=anisodiff(img=c, niter=niter, kappa=kappa, gamma=gamma, step=step, sigma=sigma,option=option,N=2,ploton=ploton)"
   ]
  },
  {
   "cell_type": "markdown",
   "metadata": {},
   "source": [
    "### Part 3.2 Introduce some regularization (more advanced)\n",
    "The original Perona Malik filter is very sensitive to noise. A way improve this is to smooth the image before computing the gradient. \n",
    "\n",
    "- Locate the line ```###### Introduce gradient smoothing here``` in the filter function and add a line to filter the image that is used to compute the gradient using a Gauss filter.\n",
    "\n",
    "$$G_{\\sigma }=C{\\sigma }^{-\\left(1/2\\right)}\\exp \\left(-|x|^{2}/4{\\sigma }\\right)$$\n",
    "\n",
    "- Use filtered image for the gradient but keep ```imgout``` to update the filter iteration.\n",
    "- Use the parameter ```sigma``` to the function definition to control the width of the Gauss kernel.\n",
    "- Compare the preformance\n",
    "\n",
    "__Note:__ You may need to adjust $\\kappa$ with this filter."
   ]
  },
  {
   "cell_type": "code",
   "execution_count": null,
   "metadata": {},
   "outputs": [],
   "source": [
    "niter=10 \n",
    "kappa=50  \n",
    "gamma=0.1 \n",
    "sigma=1.0\n",
    "step=(0.25, 0.25) \n",
    "option=2  # select weighing equation\n",
    "ploton=True\n",
    "res=anisodiff(img=a, niter=niter, kappa=kappa, gamma=gamma, step=step, option=option,sigma=sigma,ploton=ploton)"
   ]
  },
  {
   "cell_type": "code",
   "execution_count": null,
   "metadata": {},
   "outputs": [],
   "source": []
  },
  {
   "cell_type": "code",
   "execution_count": null,
   "metadata": {},
   "outputs": [],
   "source": []
  }
 ],
 "metadata": {
  "hide_input": false,
  "kernelspec": {
   "display_name": "Python 3 (ipykernel)",
   "language": "python",
   "name": "python3"
  },
  "language_info": {
   "codemirror_mode": {
    "name": "ipython",
    "version": 3
   },
   "file_extension": ".py",
   "mimetype": "text/x-python",
   "name": "python",
   "nbconvert_exporter": "python",
   "pygments_lexer": "ipython3",
   "version": "3.9.18"
  }
 },
 "nbformat": 4,
 "nbformat_minor": 4
}
