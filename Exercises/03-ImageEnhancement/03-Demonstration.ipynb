{
 "cells": [
  {
   "cell_type": "markdown",
   "metadata": {},
   "source": [
    "# Demonstration - Filter and noise basics"
   ]
  },
  {
   "cell_type": "code",
   "execution_count": null,
   "metadata": {},
   "outputs": [],
   "source": [
    "import numpy as np\n",
    "import matplotlib.pyplot as plt\n",
    "\n",
    "from scipy import ndimage\n",
    "\n",
    "%matplotlib inline"
   ]
  },
  {
   "cell_type": "markdown",
   "metadata": {},
   "source": [
    "## Creating noise images with different distributions"
   ]
  },
  {
   "cell_type": "code",
   "execution_count": null,
   "metadata": {},
   "outputs": [],
   "source": [
    "nimg = np.random.normal(0,1,size=[100,100])\n",
    "uimg = np.random.uniform(-1,1,size=[100,100])\n",
    "pimg = np.random.poisson(5,size=[100,100])\n",
    "\n",
    "plt.figure(figsize=[15,8])\n",
    "\n",
    "plt.subplot(1,3,1)\n",
    "plt.imshow(nimg)\n",
    "\n",
    "plt.subplot(1,3,2)\n",
    "plt.imshow(uimg)\n",
    "\n",
    "plt.subplot(1,3,3)\n",
    "plt.imshow(pimg)"
   ]
  },
  {
   "cell_type": "markdown",
   "metadata": {},
   "source": [
    "## Applying different filters"
   ]
  },
  {
   "cell_type": "code",
   "execution_count": null,
   "metadata": {},
   "outputs": [],
   "source": [
    "gimg=ndimage.filters.gaussian_filter(nimg,1.0)\n",
    "fimg=ndimage.filters.uniform_filter(nimg,3)\n",
    "mimg=ndimage.filters.median_filter(nimg,3)\n",
    "aimg=ndimage.filters.convolve(nimg,[[1,2,1],[2,4,2],[1,2,1]])\n",
    "\n",
    "plt.figure(figsize=[15,13])\n",
    "plt.subplot(2,2,1)\n",
    "plt.imshow(gimg)\n",
    "plt.title('Gaussian')\n",
    "\n",
    "plt.subplot(2,2,2)\n",
    "plt.imshow(fimg)\n",
    "plt.title('Uniform')\n",
    "\n",
    "plt.subplot(2,2,3)\n",
    "plt.imshow(fimg)\n",
    "plt.title('Median')\n",
    "\n",
    "plt.subplot(2,2,4)\n",
    "plt.imshow(fimg)\n",
    "plt.title('Convolve (binomial)')"
   ]
  },
  {
   "cell_type": "markdown",
   "metadata": {},
   "source": [
    "# Demonstrating edge blurring\n",
    "We want to observe what happens with edges when the image is filtered using different filter kernels."
   ]
  },
  {
   "cell_type": "markdown",
   "metadata": {},
   "source": [
    "## Make test data\n",
    "The test data is a wedge structure with increasing gap width."
   ]
  },
  {
   "cell_type": "code",
   "execution_count": null,
   "metadata": {},
   "outputs": [],
   "source": [
    "img=np.zeros([100,100])\n",
    "img[0:50,:]=1\n",
    "for i in range(img.shape[0]) :\n",
    "    img[(51+int(i/10)):img.shape[0],i]=1\n",
    "    \n",
    "plt.imshow(img,cmap='gray')\n",
    "plt.colorbar()"
   ]
  },
  {
   "cell_type": "markdown",
   "metadata": {},
   "source": [
    "## Evaluate under different conditions\n",
    " - Add noise of different strength\n",
    " - Apply different uniform filter kernels\n",
    " - Observe what happens on thresholded data"
   ]
  },
  {
   "cell_type": "markdown",
   "metadata": {},
   "source": [
    "## Make noisy image"
   ]
  },
  {
   "cell_type": "code",
   "execution_count": null,
   "metadata": {},
   "outputs": [],
   "source": [
    "SNR=4\n",
    "sigma=1/SNR \n",
    "\n",
    "noise=np.random.normal(0,sigma,img.shape)\n",
    "nimg=img+noise\n",
    "plt.imshow(nimg)\n",
    "plt.colorbar()"
   ]
  },
  {
   "cell_type": "code",
   "execution_count": null,
   "metadata": {},
   "outputs": [],
   "source": [
    "threshold = 0.5 # Threshold for segmentation\n",
    "\n",
    "fig=plt.figure(figsize=[15,13])\n",
    "for i in range(3) :\n",
    "    if (i==0):\n",
    "        plt.subplot(4,3,i+1)\n",
    "        plt.imshow(img, cmap='gray', interpolation='none')\n",
    "        plt.colorbar()\n",
    "        plt.title('Original image')\n",
    "    if (i==1) :\n",
    "        plt.subplot(4,3,i+1)\n",
    "        plt.imshow(threshold<nimg, cmap='gray', interpolation='none')\n",
    "        plt.colorbar()\n",
    "        plt.title('Thresholded noisy image')\n",
    "    if (i==2) :\n",
    "        error_image = (img - (threshold<nimg))**2\n",
    "        plt.subplot(4,3,i+1)\n",
    "        plt.imshow(error_image, cmap='gray', interpolation='none')\n",
    "        plt.colorbar()\n",
    "        plt.title(f'Error image. MSE = {np.mean(error_image)}')\n",
    "    \n",
    "    plt.subplot(4,3,3+i+1)\n",
    "    N=3+i*2\n",
    "    fimg=ndimage.filters.uniform_filter(nimg,N)\n",
    "    plt.imshow(fimg)\n",
    "    plt.colorbar()\n",
    "    plt.title(f'Uniform filter (N={N})')\n",
    "\n",
    "    plt.subplot(4,3,6+i+1)\n",
    "    plt.imshow((threshold<fimg),cmap='brg',interpolation='none')\n",
    "    plt.colorbar()\n",
    "    plt.title(f'Thresholded filtered im. (N={N}, th={threshold})')\n",
    "\n",
    "    error_image = (img - (threshold<fimg))**2\n",
    "    plt.subplot(4,3,9+i+1)\n",
    "    plt.imshow(error_image,cmap='brg',interpolation='none')\n",
    "    plt.colorbar()\n",
    "    plt.title(f'Error filtered im. MSE={np.mean(error_image)}')"
   ]
  },
  {
   "cell_type": "markdown",
   "metadata": {},
   "source": [
    "The effect of the filter is as you can see that the SNR is improving but at the cost of lost details"
   ]
  },
  {
   "cell_type": "code",
   "execution_count": null,
   "metadata": {},
   "outputs": [],
   "source": []
  }
 ],
 "metadata": {
  "kernelspec": {
   "display_name": "Python 3 (ipykernel)",
   "language": "python",
   "name": "python3"
  },
  "language_info": {
   "codemirror_mode": {
    "name": "ipython",
    "version": 3
   },
   "file_extension": ".py",
   "mimetype": "text/x-python",
   "name": "python",
   "nbconvert_exporter": "python",
   "pygments_lexer": "ipython3",
   "version": "3.9.18"
  }
 },
 "nbformat": 4,
 "nbformat_minor": 2
}
